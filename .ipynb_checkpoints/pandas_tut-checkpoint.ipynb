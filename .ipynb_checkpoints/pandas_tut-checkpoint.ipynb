{
 "cells": [
  {
   "cell_type": "markdown",
   "metadata": {},
   "source": [
    "# Tutorial - Datenanalyse mit Pandas/Seaborn"
   ]
  },
  {
   "cell_type": "markdown",
   "metadata": {},
   "source": [
    "## Herzlich Willkommen! \n",
    "<b>Du lernst heute Programmieren 🤓👍</b> <br>\n",
    "<br>\n",
    "<br>\n",
    "Genauer gesagt: <br>\n",
    "Du lernst <br>\n",
    "1. Daten einlesen 👀\n",
    "2. Daten manipulieren \n",
    "3. Daten plotten bzw. grafisch darstellen 📈📊\n",
    "\n",
    "<br>\n",
    "Dazu gibt es verschiedene Pakete, die dir helfen, doch bevor es los geht: noch ein paar wichtige Vorbereitungen! <br>\n",
    "<br>\n",
    "Um die Pakete Pandas und Seaborn nutzen zu können musst du dir einen Kernel bauen, doch wie geht das? 🧐 <br>\n",
    "\n",
    "- Öffne ein Terminal im Browser (File >  New Launcher > Terminal) und gib folgendes ein:`export ftp_proxy=\"http://proxy.computational.bio.uni-giessen.de:3128\" && export http_proxy=\"http://proxy.computational.bio.uni-giessen.de:3128\" && export https_proxy=\"http://proxy.computational.bio.uni-giessen.de:3128\"`\n",
    "- Aktiviere Conda. Gib ein: `conda activate`\n",
    "- Erstelle dir ein neues Conda environment `conda create --name datenanalyse`\n",
    "- Aktiviere das neu erstellte Conda environment `conda activate datenanalyse`\n",
    "- Installiere die folgenden Packages mit dem Befehl `conda install PACKAGENAME`: <br>\n",
    "    Ersetze dabei PACKAGENAME  durch:\n",
    "    1. pandas\n",
    "    2. seaborn\n",
    "    3. ipython\n",
    "- Aufgrund von Versionsproblemen installiere eine andere Version von jedi mit `pip install jedi==0.17.2`\n",
    "- Füge das erstellte Conda environment dem Jupyter-Notebook Kernel hinzu `python -m ipykernel install --user --name datenanalyse --display-name \"datenanalyse\"`\n",
    "- Wähle für dieses Jupyter-Notebook deinen neu erstellten Kernel \"datenanalyse\" aus\n",
    "\n",
    "Jetzt kann es los gehen!\n"
   ]
  },
  {
   "cell_type": "markdown",
   "metadata": {},
   "source": [
    "<br>"
   ]
  },
  {
   "cell_type": "markdown",
   "metadata": {},
   "source": [
    "Weitere Informationen findest du unter anderem hier:\n",
    "+ https://pandas.pydata.org/docs/index.html (Pandas Dokumentation)\n",
    "+ https://github.com/jvns/pandas-cookbook (Panas Tutorial)\n",
    "+ https://seaborn.pydata.org/index.html (Seaborn Dokumentation)\n",
    "\n",
    "Dieses Tutorial ist interaktiv, tob dich aus und probiere gerne auch Neues aus!"
   ]
  },
  {
   "cell_type": "markdown",
   "metadata": {},
   "source": [
    "<br>"
   ]
  },
  {
   "cell_type": "markdown",
   "metadata": {},
   "source": [
    "# Kleine Tipps und Tricks mit Jupyter-Notebook"
   ]
  },
  {
   "cell_type": "markdown",
   "metadata": {},
   "source": [
    "Eine Zelle kannst du ausführen, indem du `Shift` und `Enter` drückst. <br>\n",
    "Ob die Zelle gelaufen ist, erkennst du an den Eckigen Klammern links neben jeder Zelle. <br>\n",
    "+ Ist die Klammer leer `[ ]`, wurde die Zelle noch nicht ausgefüht. <br>\n",
    "+ Ist in der Klammer ein `*` zu sehen, läuft sie gerade <br>\n",
    "+ und steht eine Nummer darin, ist die Zelle bereits gelaufen. Die Nummer gibt an, in welcher Reihenfolge, die Zellen in dem Notebook ausgeführt wurden."
   ]
  },
  {
   "cell_type": "code",
   "execution_count": 1,
   "metadata": {},
   "outputs": [],
   "source": [
    "# importieren der Packages\n",
    "# mit as ... können wir später mit dem Kürzel auf die Packages und deren Funtkionen zugreifen.\n",
    "import pandas as pd\n",
    "import seaborn as sns"
   ]
  },
  {
   "cell_type": "markdown",
   "metadata": {},
   "source": [
    "Mit `Tab` löst du die Autoverfollständigung aus. <br>\n",
    "Probier es einfach mal aus!"
   ]
  },
  {
   "cell_type": "code",
   "execution_count": null,
   "metadata": {},
   "outputs": [],
   "source": [
    "pd.re"
   ]
  },
  {
   "cell_type": "markdown",
   "metadata": {},
   "source": [
    "Mit `Shift` + `Tab` erhältst du eine Liste an Parametern, welche die Funktion zur verfügung stellt, sowie eine vollständige Dokumentation."
   ]
  },
  {
   "cell_type": "code",
   "execution_count": null,
   "metadata": {},
   "outputs": [],
   "source": [
    "pd.read_csv("
   ]
  },
  {
   "cell_type": "markdown",
   "metadata": {},
   "source": [
    "Hier findest du noch weitere hilfreiche Keyboard Shortcuts für das Jupyter-Notebook: <br>\n",
    "https://cheatography.com/weidadeyue/cheat-sheets/jupyter-notebook/pdf_bw/"
   ]
  },
  {
   "cell_type": "markdown",
   "metadata": {},
   "source": [
    "# 1. Daten einlesen"
   ]
  },
  {
   "cell_type": "markdown",
   "metadata": {},
   "source": [
    "Der benutzte Datensatz stammt von dem Zentrum für Krebsregisterdaten (https://www.krebsdaten.de/Krebs/DE/Datenbankabfrage/datenbankabfrage_stufe1_node.html): <br>\n",
    "Er enthält die Krebsstatistiken für Deutschland von 1999-2019."
   ]
  },
  {
   "cell_type": "markdown",
   "metadata": {},
   "source": [
    "Da es sich bei dem Format der Daten um eine csv-Datei handelt, benutzten wir die Funktion `read_csv`. Wie du oben beim testen der Autoverfollständigung schon gesehen hast, werden noch viele weitere Formate wie zum Beispiel sql, xml oder hdf unterstützt."
   ]
  },
  {
   "cell_type": "code",
   "execution_count": 17,
   "metadata": {},
   "outputs": [
    {
     "ename": "ParserError",
     "evalue": "Error tokenizing data. C error: Expected 22 fields in line 22, saw 23\n",
     "output_type": "error",
     "traceback": [
      "\u001b[0;31m---------------------------------------------------------------------------\u001b[0m",
      "\u001b[0;31mParserError\u001b[0m                               Traceback (most recent call last)",
      "Input \u001b[0;32mIn [17]\u001b[0m, in \u001b[0;36m<cell line: 1>\u001b[0;34m()\u001b[0m\n\u001b[0;32m----> 1\u001b[0m broken_df \u001b[38;5;241m=\u001b[39m \u001b[43mpd\u001b[49m\u001b[38;5;241;43m.\u001b[39;49m\u001b[43mread_csv\u001b[49m\u001b[43m(\u001b[49m\u001b[38;5;124;43m'\u001b[39;49m\u001b[38;5;124;43m/homes/ckilian/Arbeit/gitRepos/teaching_V-BI-BSA/data/Krebsdaten.csv\u001b[39;49m\u001b[38;5;124;43m'\u001b[39;49m\u001b[43m)\u001b[49m\n",
      "File \u001b[0;32m~/no_backup/miniconda3/envs/pandas/lib/python3.10/site-packages/pandas/util/_decorators.py:311\u001b[0m, in \u001b[0;36mdeprecate_nonkeyword_arguments.<locals>.decorate.<locals>.wrapper\u001b[0;34m(*args, **kwargs)\u001b[0m\n\u001b[1;32m    305\u001b[0m \u001b[38;5;28;01mif\u001b[39;00m \u001b[38;5;28mlen\u001b[39m(args) \u001b[38;5;241m>\u001b[39m num_allow_args:\n\u001b[1;32m    306\u001b[0m     warnings\u001b[38;5;241m.\u001b[39mwarn(\n\u001b[1;32m    307\u001b[0m         msg\u001b[38;5;241m.\u001b[39mformat(arguments\u001b[38;5;241m=\u001b[39marguments),\n\u001b[1;32m    308\u001b[0m         \u001b[38;5;167;01mFutureWarning\u001b[39;00m,\n\u001b[1;32m    309\u001b[0m         stacklevel\u001b[38;5;241m=\u001b[39mstacklevel,\n\u001b[1;32m    310\u001b[0m     )\n\u001b[0;32m--> 311\u001b[0m \u001b[38;5;28;01mreturn\u001b[39;00m \u001b[43mfunc\u001b[49m\u001b[43m(\u001b[49m\u001b[38;5;241;43m*\u001b[39;49m\u001b[43margs\u001b[49m\u001b[43m,\u001b[49m\u001b[43m \u001b[49m\u001b[38;5;241;43m*\u001b[39;49m\u001b[38;5;241;43m*\u001b[39;49m\u001b[43mkwargs\u001b[49m\u001b[43m)\u001b[49m\n",
      "File \u001b[0;32m~/no_backup/miniconda3/envs/pandas/lib/python3.10/site-packages/pandas/io/parsers/readers.py:680\u001b[0m, in \u001b[0;36mread_csv\u001b[0;34m(filepath_or_buffer, sep, delimiter, header, names, index_col, usecols, squeeze, prefix, mangle_dupe_cols, dtype, engine, converters, true_values, false_values, skipinitialspace, skiprows, skipfooter, nrows, na_values, keep_default_na, na_filter, verbose, skip_blank_lines, parse_dates, infer_datetime_format, keep_date_col, date_parser, dayfirst, cache_dates, iterator, chunksize, compression, thousands, decimal, lineterminator, quotechar, quoting, doublequote, escapechar, comment, encoding, encoding_errors, dialect, error_bad_lines, warn_bad_lines, on_bad_lines, delim_whitespace, low_memory, memory_map, float_precision, storage_options)\u001b[0m\n\u001b[1;32m    665\u001b[0m kwds_defaults \u001b[38;5;241m=\u001b[39m _refine_defaults_read(\n\u001b[1;32m    666\u001b[0m     dialect,\n\u001b[1;32m    667\u001b[0m     delimiter,\n\u001b[0;32m   (...)\u001b[0m\n\u001b[1;32m    676\u001b[0m     defaults\u001b[38;5;241m=\u001b[39m{\u001b[38;5;124m\"\u001b[39m\u001b[38;5;124mdelimiter\u001b[39m\u001b[38;5;124m\"\u001b[39m: \u001b[38;5;124m\"\u001b[39m\u001b[38;5;124m,\u001b[39m\u001b[38;5;124m\"\u001b[39m},\n\u001b[1;32m    677\u001b[0m )\n\u001b[1;32m    678\u001b[0m kwds\u001b[38;5;241m.\u001b[39mupdate(kwds_defaults)\n\u001b[0;32m--> 680\u001b[0m \u001b[38;5;28;01mreturn\u001b[39;00m \u001b[43m_read\u001b[49m\u001b[43m(\u001b[49m\u001b[43mfilepath_or_buffer\u001b[49m\u001b[43m,\u001b[49m\u001b[43m \u001b[49m\u001b[43mkwds\u001b[49m\u001b[43m)\u001b[49m\n",
      "File \u001b[0;32m~/no_backup/miniconda3/envs/pandas/lib/python3.10/site-packages/pandas/io/parsers/readers.py:581\u001b[0m, in \u001b[0;36m_read\u001b[0;34m(filepath_or_buffer, kwds)\u001b[0m\n\u001b[1;32m    578\u001b[0m     \u001b[38;5;28;01mreturn\u001b[39;00m parser\n\u001b[1;32m    580\u001b[0m \u001b[38;5;28;01mwith\u001b[39;00m parser:\n\u001b[0;32m--> 581\u001b[0m     \u001b[38;5;28;01mreturn\u001b[39;00m \u001b[43mparser\u001b[49m\u001b[38;5;241;43m.\u001b[39;49m\u001b[43mread\u001b[49m\u001b[43m(\u001b[49m\u001b[43mnrows\u001b[49m\u001b[43m)\u001b[49m\n",
      "File \u001b[0;32m~/no_backup/miniconda3/envs/pandas/lib/python3.10/site-packages/pandas/io/parsers/readers.py:1254\u001b[0m, in \u001b[0;36mTextFileReader.read\u001b[0;34m(self, nrows)\u001b[0m\n\u001b[1;32m   1252\u001b[0m nrows \u001b[38;5;241m=\u001b[39m validate_integer(\u001b[38;5;124m\"\u001b[39m\u001b[38;5;124mnrows\u001b[39m\u001b[38;5;124m\"\u001b[39m, nrows)\n\u001b[1;32m   1253\u001b[0m \u001b[38;5;28;01mtry\u001b[39;00m:\n\u001b[0;32m-> 1254\u001b[0m     index, columns, col_dict \u001b[38;5;241m=\u001b[39m \u001b[38;5;28;43mself\u001b[39;49m\u001b[38;5;241;43m.\u001b[39;49m\u001b[43m_engine\u001b[49m\u001b[38;5;241;43m.\u001b[39;49m\u001b[43mread\u001b[49m\u001b[43m(\u001b[49m\u001b[43mnrows\u001b[49m\u001b[43m)\u001b[49m\n\u001b[1;32m   1255\u001b[0m \u001b[38;5;28;01mexcept\u001b[39;00m \u001b[38;5;167;01mException\u001b[39;00m:\n\u001b[1;32m   1256\u001b[0m     \u001b[38;5;28mself\u001b[39m\u001b[38;5;241m.\u001b[39mclose()\n",
      "File \u001b[0;32m~/no_backup/miniconda3/envs/pandas/lib/python3.10/site-packages/pandas/io/parsers/c_parser_wrapper.py:225\u001b[0m, in \u001b[0;36mCParserWrapper.read\u001b[0;34m(self, nrows)\u001b[0m\n\u001b[1;32m    223\u001b[0m \u001b[38;5;28;01mtry\u001b[39;00m:\n\u001b[1;32m    224\u001b[0m     \u001b[38;5;28;01mif\u001b[39;00m \u001b[38;5;28mself\u001b[39m\u001b[38;5;241m.\u001b[39mlow_memory:\n\u001b[0;32m--> 225\u001b[0m         chunks \u001b[38;5;241m=\u001b[39m \u001b[38;5;28;43mself\u001b[39;49m\u001b[38;5;241;43m.\u001b[39;49m\u001b[43m_reader\u001b[49m\u001b[38;5;241;43m.\u001b[39;49m\u001b[43mread_low_memory\u001b[49m\u001b[43m(\u001b[49m\u001b[43mnrows\u001b[49m\u001b[43m)\u001b[49m\n\u001b[1;32m    226\u001b[0m         \u001b[38;5;66;03m# destructive to chunks\u001b[39;00m\n\u001b[1;32m    227\u001b[0m         data \u001b[38;5;241m=\u001b[39m _concatenate_chunks(chunks)\n",
      "File \u001b[0;32m~/no_backup/miniconda3/envs/pandas/lib/python3.10/site-packages/pandas/_libs/parsers.pyx:805\u001b[0m, in \u001b[0;36mpandas._libs.parsers.TextReader.read_low_memory\u001b[0;34m()\u001b[0m\n",
      "File \u001b[0;32m~/no_backup/miniconda3/envs/pandas/lib/python3.10/site-packages/pandas/_libs/parsers.pyx:861\u001b[0m, in \u001b[0;36mpandas._libs.parsers.TextReader._read_rows\u001b[0;34m()\u001b[0m\n",
      "File \u001b[0;32m~/no_backup/miniconda3/envs/pandas/lib/python3.10/site-packages/pandas/_libs/parsers.pyx:847\u001b[0m, in \u001b[0;36mpandas._libs.parsers.TextReader._tokenize_rows\u001b[0;34m()\u001b[0m\n",
      "File \u001b[0;32m~/no_backup/miniconda3/envs/pandas/lib/python3.10/site-packages/pandas/_libs/parsers.pyx:1960\u001b[0m, in \u001b[0;36mpandas._libs.parsers.raise_parser_error\u001b[0;34m()\u001b[0m\n",
      "\u001b[0;31mParserError\u001b[0m: Error tokenizing data. C error: Expected 22 fields in line 22, saw 23\n"
     ]
    }
   ],
   "source": [
    "df = pd.read_csv('/homes/ckilian/Arbeit/gitRepos/teaching_V-BI-BSA/data/Krebsdaten.csv')"
   ]
  },
  {
   "cell_type": "markdown",
   "metadata": {},
   "source": [
    "So lässt sich leider nichts lesen 😭 <br>\n",
    "Mit den folgenden Maßnahmen lässt sich das jedoch beheben:\n",
    "1. Die Fehlermeldung gibt Hinweise darauf, dass wir den falschen `delimiter` ausgewählt haben. Dieser gibt an, mittels welchem Zeichen die einzelnen Spalten von einander getrennt werden. Als default Einstellung wird der Funktion `read_csv` ein Komma `,` übergeben. In unserem Fall muss es jedoch ein Semicolon `;`  sein. \n",
    "2. Beim Herunterladen wurden die Header (Überschriften) nicht übernommen. Wir müssen sie also manuell hinzufügen.\n",
    "3. Aus irgendwelchen Gründen wurde eine letzte Spalte hinzugefügt, die keine Einträge enthält. Die kann weg!\n"
   ]
  },
  {
   "cell_type": "code",
   "execution_count": 18,
   "metadata": {},
   "outputs": [],
   "source": [
    "df = pd.read_csv('/homes/ckilian/Arbeit/gitRepos/teaching_V-BI-BSA/data/Krebsdaten.csv', sep=\";\", header=None)"
   ]
  },
  {
   "cell_type": "code",
   "execution_count": 24,
   "metadata": {},
   "outputs": [
    {
     "data": {
      "text/html": [
       "<div>\n",
       "<style scoped>\n",
       "    .dataframe tbody tr th:only-of-type {\n",
       "        vertical-align: middle;\n",
       "    }\n",
       "\n",
       "    .dataframe tbody tr th {\n",
       "        vertical-align: top;\n",
       "    }\n",
       "\n",
       "    .dataframe thead th {\n",
       "        text-align: right;\n",
       "    }\n",
       "</style>\n",
       "<table border=\"1\" class=\"dataframe\">\n",
       "  <thead>\n",
       "    <tr style=\"text-align: right;\">\n",
       "      <th></th>\n",
       "      <th>0</th>\n",
       "      <th>1</th>\n",
       "      <th>2</th>\n",
       "      <th>3</th>\n",
       "      <th>4</th>\n",
       "      <th>5</th>\n",
       "      <th>6</th>\n",
       "      <th>7</th>\n",
       "      <th>8</th>\n",
       "      <th>9</th>\n",
       "      <th>...</th>\n",
       "      <th>15</th>\n",
       "      <th>16</th>\n",
       "      <th>17</th>\n",
       "      <th>18</th>\n",
       "      <th>19</th>\n",
       "      <th>20</th>\n",
       "      <th>21</th>\n",
       "      <th>22</th>\n",
       "      <th>23</th>\n",
       "      <th>24</th>\n",
       "    </tr>\n",
       "  </thead>\n",
       "  <tbody>\n",
       "    <tr>\n",
       "      <th>0</th>\n",
       "      <td>NaN</td>\n",
       "      <td>NaN</td>\n",
       "      <td>NaN</td>\n",
       "      <td>1999</td>\n",
       "      <td>2000</td>\n",
       "      <td>2001</td>\n",
       "      <td>2002</td>\n",
       "      <td>2003</td>\n",
       "      <td>2004</td>\n",
       "      <td>2005</td>\n",
       "      <td>...</td>\n",
       "      <td>2011</td>\n",
       "      <td>2012</td>\n",
       "      <td>2013</td>\n",
       "      <td>2014</td>\n",
       "      <td>2015</td>\n",
       "      <td>2016</td>\n",
       "      <td>2017</td>\n",
       "      <td>2018</td>\n",
       "      <td>2019</td>\n",
       "      <td>NaN</td>\n",
       "    </tr>\n",
       "    <tr>\n",
       "      <th>1</th>\n",
       "      <td>0 - 4</td>\n",
       "      <td>Mundhöhle und Rachen (C00-C14)</td>\n",
       "      <td>weiblich</td>\n",
       "      <td>0,0</td>\n",
       "      <td>0,1</td>\n",
       "      <td>0,0</td>\n",
       "      <td>0,1</td>\n",
       "      <td>0,0</td>\n",
       "      <td>0,0</td>\n",
       "      <td>0,0</td>\n",
       "      <td>...</td>\n",
       "      <td>0,0</td>\n",
       "      <td>0,1</td>\n",
       "      <td>0,0</td>\n",
       "      <td>0,0</td>\n",
       "      <td>0,0</td>\n",
       "      <td>0,0</td>\n",
       "      <td>0,0</td>\n",
       "      <td>0,0</td>\n",
       "      <td>0,0</td>\n",
       "      <td>NaN</td>\n",
       "    </tr>\n",
       "    <tr>\n",
       "      <th>2</th>\n",
       "      <td>0 - 4</td>\n",
       "      <td>Mundhöhle und Rachen (C00-C14)</td>\n",
       "      <td>männlich</td>\n",
       "      <td>0,0</td>\n",
       "      <td>0,0</td>\n",
       "      <td>0,0</td>\n",
       "      <td>0,0</td>\n",
       "      <td>0,0</td>\n",
       "      <td>0,1</td>\n",
       "      <td>0,0</td>\n",
       "      <td>...</td>\n",
       "      <td>0,0</td>\n",
       "      <td>0,0</td>\n",
       "      <td>0,0</td>\n",
       "      <td>0,0</td>\n",
       "      <td>0,0</td>\n",
       "      <td>0,0</td>\n",
       "      <td>0,1</td>\n",
       "      <td>0,0</td>\n",
       "      <td>0,0</td>\n",
       "      <td>NaN</td>\n",
       "    </tr>\n",
       "  </tbody>\n",
       "</table>\n",
       "<p>3 rows × 25 columns</p>\n",
       "</div>"
      ],
      "text/plain": [
       "      0                               1         2     3     4     5     6   \\\n",
       "0    NaN                             NaN       NaN  1999  2000  2001  2002   \n",
       "1  0 - 4  Mundhöhle und Rachen (C00-C14)  weiblich   0,0   0,1   0,0   0,1   \n",
       "2  0 - 4  Mundhöhle und Rachen (C00-C14)  männlich   0,0   0,0   0,0   0,0   \n",
       "\n",
       "     7     8     9   ...    15    16    17    18    19    20    21    22  \\\n",
       "0  2003  2004  2005  ...  2011  2012  2013  2014  2015  2016  2017  2018   \n",
       "1   0,0   0,0   0,0  ...   0,0   0,1   0,0   0,0   0,0   0,0   0,0   0,0   \n",
       "2   0,0   0,1   0,0  ...   0,0   0,0   0,0   0,0   0,0   0,0   0,1   0,0   \n",
       "\n",
       "     23  24  \n",
       "0  2019 NaN  \n",
       "1   0,0 NaN  \n",
       "2   0,0 NaN  \n",
       "\n",
       "[3 rows x 25 columns]"
      ]
     },
     "execution_count": 24,
     "metadata": {},
     "output_type": "execute_result"
    }
   ],
   "source": [
    "# Um einen Überblick über unsere Daten zu erhalten, schauen wir uns zunächst die ersten 3 Zeilen an.\n",
    "df[:3]"
   ]
  },
  {
   "cell_type": "markdown",
   "metadata": {},
   "source": [
    "# 2. Daten manipulieren"
   ]
  },
  {
   "cell_type": "markdown",
   "metadata": {},
   "source": [
    "Beim Einlesen der csv-Datei erhält man ein Object vom Typ `DataFrame` bestehend aus Reihen und Spalten. Die Überschriften der Spalten nennt man `header` und der Spalten `index`. Pandas liefert einen Haufen an Funktionen, die es uns erlauben dieses DataFrame schnell und mit wenig code zu manipulieren. <br>\n",
    "Darunter fällt:\n",
    "+ Anzeigen der Daten\n",
    "+ Auswählen/ Selektieren von Daten\n",
    "+ Rechenoperationen auf die Daten anwenden\n",
    "+ Zusammenführen von DataFrames\n",
    "+ (Plots)"
   ]
  },
  {
   "cell_type": "code",
   "execution_count": 25,
   "metadata": {},
   "outputs": [
    {
     "data": {
      "text/plain": [
       "pandas.core.frame.DataFrame"
      ]
     },
     "execution_count": 25,
     "metadata": {},
     "output_type": "execute_result"
    }
   ],
   "source": [
    "type(df)"
   ]
  },
  {
   "cell_type": "code",
   "execution_count": null,
   "metadata": {},
   "outputs": [],
   "source": []
  },
  {
   "cell_type": "markdown",
   "metadata": {},
   "source": [
    "# 3. Daten plotten"
   ]
  },
  {
   "cell_type": "markdown",
   "metadata": {},
   "source": [
    "Um die vorbereiteten Daten Visuell darzustellen werde ich im Folgenden das Package Seaborn verwenden. <br>\n",
    "<br>\n",
    "Themen:\n",
    "+ Visualisierung statistischer Beziehungen\n",
    "+ Visualisierung von Verteilungen von Daten\n",
    "+ Plotten mit kategorialen Daten\n",
    "+ Visualisierung von Regressionsmodellen\n",
    "+ Aufbau von strukturierten Multi-Plot-Gittern"
   ]
  },
  {
   "cell_type": "code",
   "execution_count": null,
   "metadata": {},
   "outputs": [],
   "source": []
  }
 ],
 "metadata": {
  "kernelspec": {
   "display_name": "pandas",
   "language": "python",
   "name": "pandas"
  },
  "language_info": {
   "codemirror_mode": {
    "name": "ipython",
    "version": 3
   },
   "file_extension": ".py",
   "mimetype": "text/x-python",
   "name": "python",
   "nbconvert_exporter": "python",
   "pygments_lexer": "ipython3",
   "version": "3.10.4"
  }
 },
 "nbformat": 4,
 "nbformat_minor": 4
}
